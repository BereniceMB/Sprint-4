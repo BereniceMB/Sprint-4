{
 "cells": [
  {
   "cell_type": "markdown",
   "id": "2bc45362",
   "metadata": {},
   "source": [
    "## Descripción\n",
    "L'anàlisi de registres és una funció important per al control i l'alerta, el compliment de les polítiques de seguretat, l'auditoria i el compliment normatiu, la resposta a incidents de seguretat i fins i tot les investigacions forenses. En analitzar les dades de registre, les empreses poden identificar més fàcilment les possibles amenaces i altres problemes, trobar la causa arrel i iniciar una resposta ràpida per mitigar els riscos.\n",
    "\n",
    "## Objetivos\n",
    "+ Aplicació Regular Expresion\n",
    "+ Anàlisi de registres - logs\n",
    "\n",
    "## <span style=color:blue><b>Nivell 1</b></span>\n",
    "L'analista ha d'assegurar-se que els registres consisteixen en una gamma completa de missatges i s'interpreten segons el context. Els elements de registre han d'estandaritzar-se, utilitzant els mateixos termes o terminologia, per evitar confusions i proporcionar cohesió.\n",
    "\n",
    "Com Científic de Dades se t'ha proporcionat accés als registres-Logs on queda registrada l'activitat de totes les visites a realitzades a la pàgina web de l'agència de viatges \"akumenius.com\".\n",
    "\n",
    "- [x] <span style=color:darkblue><b>- Exercici 1:</b></span>\n",
    "Estandaritza, identifica i enumera cada un dels atributs / variables de l'estructura de l'arxiu \"Web_access_log-akumenius.com\" que trobaràs al repositori de GitHub \"Data-sources\"."
   ]
  },
  {
   "cell_type": "code",
   "execution_count": 52,
   "id": "35da0c14",
   "metadata": {},
   "outputs": [],
   "source": [
    "# importing libraries\n",
    "import scipy\n",
    "import numpy as np\n",
    "import pandas as pd\n",
    "import re\n",
    "import sys"
   ]
  },
  {
   "cell_type": "code",
   "execution_count": 53,
   "id": "2b9ad297",
   "metadata": {},
   "outputs": [
    {
     "name": "stdout",
     "output_type": "stream",
     "text": [
      "localhost 127.0.0.1 - - [23/Feb/2014:03:10:31 +0100] \"OPTIONS * HTTP/1.0\" 200 - \"-\" \"Apache (internal dummy connection)\" VLOG=-\n",
      "localhost 127.0.0.1 - - [23/Feb/2014:03:10:31 +0100] \"OPTIONS * HTTP/1.0\" 200 - \"-\" \"Apache (internal dummy connection)\" VLOG=-\n",
      "localhost 127.0.0.1 - - [23/Feb/2014:03:10:31 +0100] \"OPTIONS * HTTP/1.0\" 200 - \"-\" \"Apache (internal dummy connection)\" VLOG=-\n",
      "localhost 127.0.0.1 - - [23/Feb/2014:03:10:31 +0100] \"OPTIONS * HTTP/1.0\" 200 - \"-\" \"Apache (internal dummy connection)\" VLOG=-\n",
      "localhost 127.0.0.1 - - [23/Feb/2014:03:10:31 +0100] \"OPTIONS * HTTP/1.0\" 200 - \"-\" \"Apache (internal dummy connection)\" VLOG=-\n",
      "localhost 127.0.0.1 - - [23/Feb/2014:03:10:31 +0100] \"OPTIONS * HTTP/1.0\" 200 - \"-\" \"Apache (internal dummy connection)\" VLOG=-\n",
      "localhost 127.0.0.1 - - [23/Feb/2014:03:10:31 +0100] \"OPTIONS * HTTP/1.0\" 200 - \"-\" \"Apache (internal dummy connection)\" VLOG=-\n",
      "localhost 127.0.0.1 - - [23/Feb/2014:03:10:31 +0100] \"OPTIONS * HTTP/1.0\" 200 - \"-\" \"Apache (internal dummy connection)\" VLOG=-\n"
     ]
    }
   ],
   "source": [
    "archivo = open(\"Web_access_log-akumenius.com.txt\")\n",
    "archiv = archivo.read()\n",
    "print(archiv[:1023])"
   ]
  },
  {
   "cell_type": "code",
   "execution_count": 54,
   "id": "758ef69d",
   "metadata": {},
   "outputs": [
    {
     "name": "stdout",
     "output_type": "stream",
     "text": [
      "261873\n"
     ]
    }
   ],
   "source": [
    "count = 0\n",
    "with open('Web_access_log-akumenius.com.txt') as archivo:\n",
    "    for line in archivo:\n",
    "            count = count +1\n",
    "print(count)"
   ]
  },
  {
   "cell_type": "markdown",
   "id": "b8e9c334",
   "metadata": {},
   "source": [
    "Los atributos son:\n",
    "Servidor / IP del cliente / Identidad del cliente (falta información en todos los casos)/ Identificador de usuario de la persona solicitante (falta información en todos los casos)/ Fecha y hora en la que el servidor recibió la petición / Línea de la petición del cliente / Código de estado que el servidor envía de vuelta al cliente / Tamaño del objeto retornado / Cabecera de petición de HTTP \"Referer\" / Cabecera de petición de HTTP \"User-Agent\" / VLOG (galería de clips de videos)"
   ]
  },
  {
   "cell_type": "markdown",
   "id": "59b882c8",
   "metadata": {},
   "source": [
    "Para poder estandarizar los datos, estos deben de ser numéricos (en este caso: los referentes al código de estado que el servidor envía de vuelta al cliente y al del tamaño del objeto retornado), sin embargo, dada la naturaleza de estos, sólo se podría estandrizar eldel tamaño del objeto retornado."
   ]
  },
  {
   "cell_type": "markdown",
   "id": "c2463149",
   "metadata": {},
   "source": [
    "Lo que hago a continuación es limpiar la información y pasarla a un dataframe para poder trabajar mejor."
   ]
  },
  {
   "cell_type": "code",
   "execution_count": 55,
   "id": "577cc910",
   "metadata": {},
   "outputs": [],
   "source": [
    "# Función para reemplazar el texto\n",
    "def replacetext(search_text,replace_text):\n",
    "    \n",
    "    with open('Web_access_log-akumenius_1.com.txt','r+') as f:\n",
    "        \n",
    "        file = f.read()\n",
    "        file = re.sub(search_text, replace_text, file)\n",
    "        f.seek(0)\n",
    "        f.write(file)\n",
    "        f.truncate()\n",
    "    return \"Text replaced\""
   ]
  },
  {
   "cell_type": "markdown",
   "id": "8445146e",
   "metadata": {},
   "source": [
    "Aquí agregué un separador entre cada atributo para después usar pandas."
   ]
  },
  {
   "cell_type": "code",
   "execution_count": 56,
   "id": "1318d32d",
   "metadata": {},
   "outputs": [
    {
     "data": {
      "text/plain": [
       "'Text replaced'"
      ]
     },
     "execution_count": 56,
     "metadata": {},
     "output_type": "execute_result"
    }
   ],
   "source": [
    "replacetext(\"(\\S*) (\\d.+|-) (.+) (.+) \\[(\\d+/\\w+/\\d+:\\d{2}:\\d{2}:\\d{2}\\s\\+*-*\\d*)\\] \\\"(\\w.*)\\\" (\\d+|-) (\\d+|-) \\\"(.+)\\\" \\\"(.+)\\\"\\sVLOG=(.+)\",r\"\\1|\\2|\\3|\\4|\\5|\\6|\\7|\\8|\\9|\\10|\\11\")"
   ]
  },
  {
   "cell_type": "code",
   "execution_count": 57,
   "id": "bc439587",
   "metadata": {},
   "outputs": [
    {
     "name": "stdout",
     "output_type": "stream",
     "text": [
      "localhost|127.0.0.1|-|-|23/Feb/2014:03:10:31 +0100|OPTIONS * HTTP/1.0|200|-|-|Apache (internal dummy connection)|-\n",
      "localhost|127.0.0.1|-|-|23/Feb/2014:03:10:31 +0100|OPTIONS * HTTP/1.0|200|-|-|Apache (internal dummy connection)|-\n",
      "localhost|127.0.0.1|-|-|23/Feb/2014:03:10:31 +0100|OPTIONS * HTTP/1.0|200|-|-|Apache (internal dummy connection)|-\n",
      "localhost|127.0.0.1|-|-|23/Feb/2014:03:10:31 +0100|OPTIONS * HTTP/1.0|200|-|-|Apache (internal dummy connection)|-\n",
      "localhost|127.0.0.1|-|-|23/Feb/2014:03:10:31 +0100|OPTIONS * HTTP/1.0|200|-|-|Apache (internal dummy connection)|-\n",
      "localhost|127.0.0.1|-|-|23/Feb/2014:03:10:31 +0100|OPTIONS * HTTP/1.0|200|-|-|Apache (internal dummy connection)|-\n",
      "localhost|127.0.0.1|-|-|23/Feb/2014:03:10:31 +0100|OPTIONS * HTTP/1.0|200|-|-|Apache (internal dummy connection)|-\n",
      "localhost|127.0.0.1|-|-|23/Feb/2014:03:10:31 +0100|OPTIONS * HTTP/1.0|200|-|-|Apache (internal dummy connection)|-\n",
      "localhost|127.0.0.1|-|-|23/Feb/2014:03:10:31 +0100|OPTIONS * HTTP/1.0|200|-|-|Apache (internal dummy co\n"
     ]
    }
   ],
   "source": [
    "#Esto lo hice para ver que todo funcionara bien\n",
    "with open('Web_access_log-akumenius_1.com.txt','r+') as f:\n",
    "    file = f.read()\n",
    "    print(file[:1023])"
   ]
  },
  {
   "cell_type": "code",
   "execution_count": 58,
   "id": "63f7667c",
   "metadata": {},
   "outputs": [
    {
     "name": "stdout",
     "output_type": "stream",
     "text": [
      "<class 'pandas.core.frame.DataFrame'>\n",
      "RangeIndex: 261873 entries, 0 to 261872\n",
      "Data columns (total 11 columns):\n",
      " #   Column                 Non-Null Count   Dtype  \n",
      "---  ------                 --------------   -----  \n",
      " 0   Servidor               261873 non-null  object \n",
      " 1   IP                     261831 non-null  object \n",
      " 2   IDcl                   0 non-null       float64\n",
      " 3   IDusuario              27 non-null      object \n",
      " 4   Fecha                  261831 non-null  object \n",
      " 5   Línea Petición         261831 non-null  object \n",
      " 6   Código de estado       261831 non-null  float64\n",
      " 7   Tamaño Objeto          219533 non-null  float64\n",
      " 8   Cabecera(Referer)      162326 non-null  object \n",
      " 9   Cabecera (User-Agent)  261654 non-null  object \n",
      " 10  VLOG                   0 non-null       float64\n",
      "dtypes: float64(4), object(7)\n",
      "memory usage: 22.0+ MB\n",
      "    Servidor         IP  IDcl IDusuario                       Fecha  \\\n",
      "0  localhost  127.0.0.1   NaN       NaN  23/Feb/2014:03:10:31 +0100   \n",
      "1  localhost  127.0.0.1   NaN       NaN  23/Feb/2014:03:10:31 +0100   \n",
      "2  localhost  127.0.0.1   NaN       NaN  23/Feb/2014:03:10:31 +0100   \n",
      "3  localhost  127.0.0.1   NaN       NaN  23/Feb/2014:03:10:31 +0100   \n",
      "4  localhost  127.0.0.1   NaN       NaN  23/Feb/2014:03:10:31 +0100   \n",
      "\n",
      "       Línea Petición  Código de estado  Tamaño Objeto Cabecera(Referer)  \\\n",
      "0  OPTIONS * HTTP/1.0             200.0            NaN               NaN   \n",
      "1  OPTIONS * HTTP/1.0             200.0            NaN               NaN   \n",
      "2  OPTIONS * HTTP/1.0             200.0            NaN               NaN   \n",
      "3  OPTIONS * HTTP/1.0             200.0            NaN               NaN   \n",
      "4  OPTIONS * HTTP/1.0             200.0            NaN               NaN   \n",
      "\n",
      "                Cabecera (User-Agent)  VLOG  \n",
      "0  Apache (internal dummy connection)   NaN  \n",
      "1  Apache (internal dummy connection)   NaN  \n",
      "2  Apache (internal dummy connection)   NaN  \n",
      "3  Apache (internal dummy connection)   NaN  \n",
      "4  Apache (internal dummy connection)   NaN  \n"
     ]
    }
   ],
   "source": [
    "df_web = pd.read_csv('Web_access_log-akumenius_1.com.txt', \n",
    "                 delimiter=\"|\",\n",
    "                 engine='python',\n",
    "                 na_values=\"-\",\n",
    "                 names=('Servidor', 'IP', 'IDcl', 'IDusuario', 'Fecha','Línea Petición','Código de estado','Tamaño Objeto', 'Cabecera(Referer)', 'Cabecera (User-Agent)', 'VLOG')\n",
    "                  )\n",
    "df_web.info()\n",
    "print(df_web.head())"
   ]
  },
  {
   "cell_type": "code",
   "execution_count": 59,
   "id": "35ea86b8",
   "metadata": {
    "scrolled": false
   },
   "outputs": [
    {
     "data": {
      "text/html": [
       "<div>\n",
       "<style scoped>\n",
       "    .dataframe tbody tr th:only-of-type {\n",
       "        vertical-align: middle;\n",
       "    }\n",
       "\n",
       "    .dataframe tbody tr th {\n",
       "        vertical-align: top;\n",
       "    }\n",
       "\n",
       "    .dataframe thead th {\n",
       "        text-align: right;\n",
       "    }\n",
       "</style>\n",
       "<table border=\"1\" class=\"dataframe\">\n",
       "  <thead>\n",
       "    <tr style=\"text-align: right;\">\n",
       "      <th></th>\n",
       "      <th>Servidor</th>\n",
       "      <th>IP</th>\n",
       "      <th>Fecha</th>\n",
       "      <th>Línea Petición</th>\n",
       "      <th>Código de estado</th>\n",
       "      <th>Tamaño Objeto</th>\n",
       "      <th>Cabecera(Referer)</th>\n",
       "      <th>Cabecera (User-Agent)</th>\n",
       "    </tr>\n",
       "  </thead>\n",
       "  <tbody>\n",
       "    <tr>\n",
       "      <th>3154</th>\n",
       "      <td>www.akumenius.com</td>\n",
       "      <td>162.243.192.191</td>\n",
       "      <td>23/Feb/2014:04:34:10 +0100</td>\n",
       "      <td>GET /destinoAjax/E HTTP/1.1</td>\n",
       "      <td>200.0</td>\n",
       "      <td>3175.0</td>\n",
       "      <td>http://www.akumenius.com/destinos-baratos-index</td>\n",
       "      <td>Mozilla/5.0 (compatible; spbot/4.0.7; +http://...</td>\n",
       "    </tr>\n",
       "    <tr>\n",
       "      <th>156779</th>\n",
       "      <td>www.akumenius.com</td>\n",
       "      <td>217.125.71.222</td>\n",
       "      <td>26/Feb/2014:11:17:47 +0100</td>\n",
       "      <td>GET /libraries/anythingSlider/includes/images/...</td>\n",
       "      <td>200.0</td>\n",
       "      <td>3175.0</td>\n",
       "      <td>http://www.akumenius.com/</td>\n",
       "      <td>Mozilla/5.0 (Windows NT 6.0; WOW64) AppleWebKi...</td>\n",
       "    </tr>\n",
       "    <tr>\n",
       "      <th>12402</th>\n",
       "      <td>www.akumenius.com</td>\n",
       "      <td>88.23.17.66</td>\n",
       "      <td>23/Feb/2014:11:37:09 +0100</td>\n",
       "      <td>POST /destinos-get HTTP/1.1</td>\n",
       "      <td>200.0</td>\n",
       "      <td>180.0</td>\n",
       "      <td>http://www.akumenius.com/</td>\n",
       "      <td>Mozilla/5.0 (Windows NT 6.1; WOW64) AppleWebKi...</td>\n",
       "    </tr>\n",
       "    <tr>\n",
       "      <th>133616</th>\n",
       "      <td>localhost</td>\n",
       "      <td>127.0.0.1</td>\n",
       "      <td>25/Feb/2014:19:02:07 +0100</td>\n",
       "      <td>OPTIONS * HTTP/1.0</td>\n",
       "      <td>200.0</td>\n",
       "      <td>NaN</td>\n",
       "      <td>NaN</td>\n",
       "      <td>Apache (internal dummy connection)</td>\n",
       "    </tr>\n",
       "    <tr>\n",
       "      <th>20515</th>\n",
       "      <td>www.akumenius.com</td>\n",
       "      <td>66.249.76.216</td>\n",
       "      <td>23/Feb/2014:15:27:29 +0100</td>\n",
       "      <td>GET /destinos-baratos/destinosEstrelles/hotele...</td>\n",
       "      <td>200.0</td>\n",
       "      <td>8834.0</td>\n",
       "      <td>NaN</td>\n",
       "      <td>Mozilla/5.0 (compatible; Googlebot/2.1; +http:...</td>\n",
       "    </tr>\n",
       "  </tbody>\n",
       "</table>\n",
       "</div>"
      ],
      "text/plain": [
       "                 Servidor               IP                       Fecha  \\\n",
       "3154    www.akumenius.com  162.243.192.191  23/Feb/2014:04:34:10 +0100   \n",
       "156779  www.akumenius.com   217.125.71.222  26/Feb/2014:11:17:47 +0100   \n",
       "12402   www.akumenius.com      88.23.17.66  23/Feb/2014:11:37:09 +0100   \n",
       "133616          localhost        127.0.0.1  25/Feb/2014:19:02:07 +0100   \n",
       "20515   www.akumenius.com    66.249.76.216  23/Feb/2014:15:27:29 +0100   \n",
       "\n",
       "                                           Línea Petición  Código de estado  \\\n",
       "3154                          GET /destinoAjax/E HTTP/1.1             200.0   \n",
       "156779  GET /libraries/anythingSlider/includes/images/...             200.0   \n",
       "12402                         POST /destinos-get HTTP/1.1             200.0   \n",
       "133616                                 OPTIONS * HTTP/1.0             200.0   \n",
       "20515   GET /destinos-baratos/destinosEstrelles/hotele...             200.0   \n",
       "\n",
       "        Tamaño Objeto                                Cabecera(Referer)  \\\n",
       "3154           3175.0  http://www.akumenius.com/destinos-baratos-index   \n",
       "156779         3175.0                        http://www.akumenius.com/   \n",
       "12402           180.0                        http://www.akumenius.com/   \n",
       "133616            NaN                                              NaN   \n",
       "20515          8834.0                                              NaN   \n",
       "\n",
       "                                    Cabecera (User-Agent)  \n",
       "3154    Mozilla/5.0 (compatible; spbot/4.0.7; +http://...  \n",
       "156779  Mozilla/5.0 (Windows NT 6.0; WOW64) AppleWebKi...  \n",
       "12402   Mozilla/5.0 (Windows NT 6.1; WOW64) AppleWebKi...  \n",
       "133616                 Apache (internal dummy connection)  \n",
       "20515   Mozilla/5.0 (compatible; Googlebot/2.1; +http:...  "
      ]
     },
     "execution_count": 59,
     "metadata": {},
     "output_type": "execute_result"
    }
   ],
   "source": [
    "df_web_1 = df_web[['Servidor', 'IP', 'Fecha','Línea Petición','Código de estado','Tamaño Objeto', 'Cabecera(Referer)', 'Cabecera (User-Agent)']].copy()\n",
    "df_web_1.sample(5)"
   ]
  },
  {
   "cell_type": "markdown",
   "id": "b75ea75c",
   "metadata": {
    "ExecuteTime": {
     "end_time": "2021-05-06T16:48:00.807518Z",
     "start_time": "2021-05-06T16:48:00.800537Z"
    }
   },
   "source": [
    "Ahora <mark>normalizamos</mark> los datos del Tamaño del objeto retornado por el cliente. Antes, veamos la información de los datos numéricos que tenemos."
   ]
  },
  {
   "cell_type": "code",
   "execution_count": 60,
   "id": "341d3fec",
   "metadata": {},
   "outputs": [
    {
     "name": "stdout",
     "output_type": "stream",
     "text": [
      "CÓDIGO DE ESTADO\n",
      "\n",
      "\n",
      "200.0    226382\n",
      "304.0     25269\n",
      "404.0      8630\n",
      "301.0       870\n",
      "206.0       304\n",
      "403.0       194\n",
      "302.0       109\n",
      "502.0        44\n",
      "400.0        21\n",
      "401.0         5\n",
      "500.0         3\n",
      "Name: Código de estado, dtype: int64\n",
      "\n",
      "\n",
      "TAMAÑO OBJETO\n",
      "\n",
      "\n",
      "count    2.195330e+05\n",
      "mean     1.182798e+04\n",
      "std      2.413658e+05\n",
      "min      1.000000e+00\n",
      "25%      2.510000e+03\n",
      "50%      6.407000e+03\n",
      "75%      9.675000e+03\n",
      "max      4.556469e+07\n",
      "Name: Tamaño Objeto, dtype: float64\n",
      "\n",
      "\n",
      "3100.0     10579\n",
      "26.0        4501\n",
      "3175.0      3731\n",
      "8158.0      2209\n",
      "17458.0     1932\n",
      "           ...  \n",
      "15341.0        1\n",
      "21603.0        1\n",
      "2070.0         1\n",
      "24508.0        1\n",
      "19052.0        1\n",
      "Name: Tamaño Objeto, Length: 15547, dtype: int64\n"
     ]
    }
   ],
   "source": [
    "print('CÓDIGO DE ESTADO')\n",
    "print('\\n')\n",
    "print(df_web['Código de estado'].value_counts())\n",
    "print('\\n')\n",
    "print('TAMAÑO OBJETO')\n",
    "print('\\n')\n",
    "print(df_web['Tamaño Objeto'].describe())\n",
    "print('\\n')\n",
    "print(df_web['Tamaño Objeto'].value_counts())"
   ]
  },
  {
   "cell_type": "code",
   "execution_count": 63,
   "id": "43d6254d",
   "metadata": {},
   "outputs": [
    {
     "name": "stdout",
     "output_type": "stream",
     "text": [
      "\n",
      "\n",
      "count    219533.000000\n",
      "mean          0.000260\n",
      "std           0.005297\n",
      "min           0.000000\n",
      "25%           0.000055\n",
      "50%           0.000141\n",
      "75%           0.000212\n",
      "max           1.000000\n",
      "Name: Tamaño Objeto, dtype: float64\n",
      "\n",
      "\n",
      "6.801320e-05    10579\n",
      "5.486705e-07     4501\n",
      "6.965921e-05     3731\n",
      "1.790202e-04     2209\n",
      "3.831257e-04     1932\n",
      "                ...  \n",
      "3.366642e-04        1\n",
      "4.740952e-04        1\n",
      "4.540797e-05        1\n",
      "5.378507e-04        1\n",
      "4.181089e-04        1\n",
      "Name: Tamaño Objeto, Length: 15547, dtype: int64\n",
      "\n",
      "\n",
      "    Servidor         IP                       Fecha      Línea Petición  \\\n",
      "0  localhost  127.0.0.1  23/Feb/2014:03:10:31 +0100  OPTIONS * HTTP/1.0   \n",
      "1  localhost  127.0.0.1  23/Feb/2014:03:10:31 +0100  OPTIONS * HTTP/1.0   \n",
      "2  localhost  127.0.0.1  23/Feb/2014:03:10:31 +0100  OPTIONS * HTTP/1.0   \n",
      "3  localhost  127.0.0.1  23/Feb/2014:03:10:31 +0100  OPTIONS * HTTP/1.0   \n",
      "4  localhost  127.0.0.1  23/Feb/2014:03:10:31 +0100  OPTIONS * HTTP/1.0   \n",
      "\n",
      "   Código de estado  Tamaño Objeto Cabecera(Referer)  \\\n",
      "0             200.0            NaN               NaN   \n",
      "1             200.0            NaN               NaN   \n",
      "2             200.0            NaN               NaN   \n",
      "3             200.0            NaN               NaN   \n",
      "4             200.0            NaN               NaN   \n",
      "\n",
      "                Cabecera (User-Agent)  \n",
      "0  Apache (internal dummy connection)  \n",
      "1  Apache (internal dummy connection)  \n",
      "2  Apache (internal dummy connection)  \n",
      "3  Apache (internal dummy connection)  \n",
      "4  Apache (internal dummy connection)  \n"
     ]
    }
   ],
   "source": [
    "df_web_2=df_web_1.copy()\n",
    "df_web_2.dropna(subset=['Tamaño Objeto'])\n",
    "df_web_2['Tamaño Objeto']=(df_web_2['Tamaño Objeto']-df_web_2['Tamaño Objeto'].min())/(df_web_2['Tamaño Objeto'].max()-df_web_2['Tamaño Objeto'].min())\n",
    "print('\\n')\n",
    "print(df_web_2['Tamaño Objeto'].describe())\n",
    "print('\\n')\n",
    "print(df_web_2['Tamaño Objeto'].value_counts())\n",
    "print(\"\\n\")\n",
    "print(df_web_2.head())\n"
   ]
  },
  {
   "cell_type": "markdown",
   "id": "95424734",
   "metadata": {},
   "source": [
    "_________________"
   ]
  },
  {
   "cell_type": "markdown",
   "id": "155e0675",
   "metadata": {},
   "source": [
    "## <span style=color:blue><b>Nivell 2</b></span>\n",
    "- [x] <span style=color:darkblue><b>- Exercici 2:</b></span>\n",
    "\n",
    "Neteja, preprocesa, estructura i transforma (dataframe) les dades del registre d'Accés a la web.\n",
    "\n",
    "- [ ] <span style=color:darkblue><b>- Exercici 3:</b></span>\n",
    "\n",
    "Geolocalitza les IP's.\n",
    "\n",
    "## <span style=color:blue><b>Nivell 3</b></span>\n",
    "- [ ] <span style=color:darkblue><b>- Exercici 4:</b></span>\n",
    "\n",
    "Mostra'm la teva creativitat, Sorprèn-me fes un pas més enllà amb l'anàlisi anterior."
   ]
  }
 ],
 "metadata": {
  "kernelspec": {
   "display_name": "Python 3 (ipykernel)",
   "language": "python",
   "name": "python3"
  },
  "language_info": {
   "codemirror_mode": {
    "name": "ipython",
    "version": 3
   },
   "file_extension": ".py",
   "mimetype": "text/x-python",
   "name": "python",
   "nbconvert_exporter": "python",
   "pygments_lexer": "ipython3",
   "version": "3.9.7"
  }
 },
 "nbformat": 4,
 "nbformat_minor": 5
}
